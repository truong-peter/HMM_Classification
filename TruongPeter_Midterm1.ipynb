{
  "cells": [
    {
      "cell_type": "markdown",
      "metadata": {
        "id": "view-in-github",
        "colab_type": "text"
      },
      "source": [
        "<a href=\"https://colab.research.google.com/github/truong-peter/HMM_Classification/blob/main/TruongPeter_Midterm1.ipynb\" target=\"_parent\"><img src=\"https://colab.research.google.com/assets/colab-badge.svg\" alt=\"Open In Colab\"/></a>"
      ]
    },
    {
      "cell_type": "markdown",
      "metadata": {
        "id": "5FB0rUuBhUTl"
      },
      "source": [
        "##PROCESSING DATA"
      ]
    },
    {
      "cell_type": "markdown",
      "metadata": {
        "id": "WCWy1fC8QElN"
      },
      "source": [
        "**IMPORTS**"
      ]
    },
    {
      "cell_type": "code",
      "execution_count": null,
      "metadata": {
        "id": "A5sOOxj80clD"
      },
      "outputs": [],
      "source": [
        "!pip install hmmlearn\n",
        "from hmmlearn import hmm\n",
        "from sklearn.preprocessing import LabelEncoder\n",
        "import pandas as pd\n",
        "import numpy as np\n",
        "import os\n",
        "\n",
        "import sys\n",
        "np.set_printoptions(threshold=sys.maxsize) #print array with no truncations "
      ]
    },
    {
      "cell_type": "code",
      "execution_count": null,
      "metadata": {
        "id": "j7DrIXi3hw5u"
      },
      "outputs": [],
      "source": [
        "from google.colab import drive\n",
        "drive.mount('/content/drive')"
      ]
    },
    {
      "cell_type": "markdown",
      "metadata": {
        "id": "CAZNxBq5QJEq"
      },
      "source": [
        "**PROCESSING DATA**\n",
        "\n"
      ]
    },
    {
      "cell_type": "code",
      "execution_count": null,
      "metadata": {
        "id": "17NrTd9YU0cN"
      },
      "outputs": [],
      "source": [
        "def read_opcodes_from_dir(directory):\n",
        "    opcodes = []\n",
        "    for filename in os.listdir(directory):\n",
        "        filepath = os.path.join(directory, filename)\n",
        "        with open(filepath) as file:\n",
        "            opcode_list = [line.strip() for line in file]\n",
        "        opcodes.append(opcode_list)\n",
        "    return opcodes"
      ]
    },
    {
      "cell_type": "code",
      "execution_count": null,
      "metadata": {
        "id": "miT5EjbgU1QD"
      },
      "outputs": [],
      "source": [
        "zbot_opcodes = read_opcodes_from_dir('/content/drive/MyDrive/zbot')\n",
        "win_opcodes = read_opcodes_from_dir('/content/drive/MyDrive/winwebsec')"
      ]
    },
    {
      "cell_type": "markdown",
      "metadata": {
        "id": "dNDXDdXaMq_Q"
      },
      "source": [
        "##PREPROCESSING DATA"
      ]
    },
    {
      "cell_type": "markdown",
      "metadata": {
        "id": "zOO0_LTSTsL9"
      },
      "source": [
        "**ENCODING ZBOT & WIN**"
      ]
    },
    {
      "cell_type": "code",
      "execution_count": null,
      "metadata": {
        "id": "lKjgiIE6R_aV",
        "colab": {
          "base_uri": "https://localhost:8080/",
          "height": 74
        },
        "outputId": "f7c4a941-60b6-415e-983e-d8e9e2ad5d25"
      },
      "outputs": [
        {
          "output_type": "execute_result",
          "data": {
            "text/plain": [
              "LabelEncoder()"
            ],
            "text/html": [
              "<style>#sk-container-id-1 {color: black;background-color: white;}#sk-container-id-1 pre{padding: 0;}#sk-container-id-1 div.sk-toggleable {background-color: white;}#sk-container-id-1 label.sk-toggleable__label {cursor: pointer;display: block;width: 100%;margin-bottom: 0;padding: 0.3em;box-sizing: border-box;text-align: center;}#sk-container-id-1 label.sk-toggleable__label-arrow:before {content: \"▸\";float: left;margin-right: 0.25em;color: #696969;}#sk-container-id-1 label.sk-toggleable__label-arrow:hover:before {color: black;}#sk-container-id-1 div.sk-estimator:hover label.sk-toggleable__label-arrow:before {color: black;}#sk-container-id-1 div.sk-toggleable__content {max-height: 0;max-width: 0;overflow: hidden;text-align: left;background-color: #f0f8ff;}#sk-container-id-1 div.sk-toggleable__content pre {margin: 0.2em;color: black;border-radius: 0.25em;background-color: #f0f8ff;}#sk-container-id-1 input.sk-toggleable__control:checked~div.sk-toggleable__content {max-height: 200px;max-width: 100%;overflow: auto;}#sk-container-id-1 input.sk-toggleable__control:checked~label.sk-toggleable__label-arrow:before {content: \"▾\";}#sk-container-id-1 div.sk-estimator input.sk-toggleable__control:checked~label.sk-toggleable__label {background-color: #d4ebff;}#sk-container-id-1 div.sk-label input.sk-toggleable__control:checked~label.sk-toggleable__label {background-color: #d4ebff;}#sk-container-id-1 input.sk-hidden--visually {border: 0;clip: rect(1px 1px 1px 1px);clip: rect(1px, 1px, 1px, 1px);height: 1px;margin: -1px;overflow: hidden;padding: 0;position: absolute;width: 1px;}#sk-container-id-1 div.sk-estimator {font-family: monospace;background-color: #f0f8ff;border: 1px dotted black;border-radius: 0.25em;box-sizing: border-box;margin-bottom: 0.5em;}#sk-container-id-1 div.sk-estimator:hover {background-color: #d4ebff;}#sk-container-id-1 div.sk-parallel-item::after {content: \"\";width: 100%;border-bottom: 1px solid gray;flex-grow: 1;}#sk-container-id-1 div.sk-label:hover label.sk-toggleable__label {background-color: #d4ebff;}#sk-container-id-1 div.sk-serial::before {content: \"\";position: absolute;border-left: 1px solid gray;box-sizing: border-box;top: 0;bottom: 0;left: 50%;z-index: 0;}#sk-container-id-1 div.sk-serial {display: flex;flex-direction: column;align-items: center;background-color: white;padding-right: 0.2em;padding-left: 0.2em;position: relative;}#sk-container-id-1 div.sk-item {position: relative;z-index: 1;}#sk-container-id-1 div.sk-parallel {display: flex;align-items: stretch;justify-content: center;background-color: white;position: relative;}#sk-container-id-1 div.sk-item::before, #sk-container-id-1 div.sk-parallel-item::before {content: \"\";position: absolute;border-left: 1px solid gray;box-sizing: border-box;top: 0;bottom: 0;left: 50%;z-index: -1;}#sk-container-id-1 div.sk-parallel-item {display: flex;flex-direction: column;z-index: 1;position: relative;background-color: white;}#sk-container-id-1 div.sk-parallel-item:first-child::after {align-self: flex-end;width: 50%;}#sk-container-id-1 div.sk-parallel-item:last-child::after {align-self: flex-start;width: 50%;}#sk-container-id-1 div.sk-parallel-item:only-child::after {width: 0;}#sk-container-id-1 div.sk-dashed-wrapped {border: 1px dashed gray;margin: 0 0.4em 0.5em 0.4em;box-sizing: border-box;padding-bottom: 0.4em;background-color: white;}#sk-container-id-1 div.sk-label label {font-family: monospace;font-weight: bold;display: inline-block;line-height: 1.2em;}#sk-container-id-1 div.sk-label-container {text-align: center;}#sk-container-id-1 div.sk-container {/* jupyter's `normalize.less` sets `[hidden] { display: none; }` but bootstrap.min.css set `[hidden] { display: none !important; }` so we also need the `!important` here to be able to override the default hidden behavior on the sphinx rendered scikit-learn.org. See: https://github.com/scikit-learn/scikit-learn/issues/21755 */display: inline-block !important;position: relative;}#sk-container-id-1 div.sk-text-repr-fallback {display: none;}</style><div id=\"sk-container-id-1\" class=\"sk-top-container\"><div class=\"sk-text-repr-fallback\"><pre>LabelEncoder()</pre><b>In a Jupyter environment, please rerun this cell to show the HTML representation or trust the notebook. <br />On GitHub, the HTML representation is unable to render, please try loading this page with nbviewer.org.</b></div><div class=\"sk-container\" hidden><div class=\"sk-item\"><div class=\"sk-estimator sk-toggleable\"><input class=\"sk-toggleable__control sk-hidden--visually\" id=\"sk-estimator-id-1\" type=\"checkbox\" checked><label for=\"sk-estimator-id-1\" class=\"sk-toggleable__label sk-toggleable__label-arrow\">LabelEncoder</label><div class=\"sk-toggleable__content\"><pre>LabelEncoder()</pre></div></div></div></div></div>"
            ]
          },
          "metadata": {},
          "execution_count": 4
        }
      ],
      "source": [
        "encoder = LabelEncoder()\n",
        "encoder.fit([opcode for sublist in zbot_opcodes + win_opcodes for opcode in sublist])"
      ]
    },
    {
      "cell_type": "code",
      "execution_count": null,
      "metadata": {
        "id": "06XJ1gXKV40Q"
      },
      "outputs": [],
      "source": [
        "def encode_opcodes(opcodes, encoder):\n",
        "    encoded_opcodes = []\n",
        "    for opcode_list in opcodes:\n",
        "        encoded_opcode_list = encoder.transform(opcode_list)\n",
        "        encoded_opcodes.append(encoded_opcode_list)\n",
        "    return encoded_opcodes"
      ]
    },
    {
      "cell_type": "code",
      "execution_count": null,
      "metadata": {
        "id": "-Oy5fK05V63P"
      },
      "outputs": [],
      "source": [
        "encoded_zbot_opcodes = encode_opcodes(zbot_opcodes, encoder)\n"
      ]
    },
    {
      "cell_type": "code",
      "execution_count": null,
      "metadata": {
        "id": "9NiG8glDV8go"
      },
      "outputs": [],
      "source": [
        "encoded_win_opcodes = encode_opcodes(win_opcodes, encoder)\n"
      ]
    },
    {
      "cell_type": "markdown",
      "metadata": {
        "id": "CRqtNnAcCu8w"
      },
      "source": [
        "##TRAINING/TESTING DATA SPLIT"
      ]
    },
    {
      "cell_type": "markdown",
      "metadata": {
        "id": "o71MVEcEhreT"
      },
      "source": [
        "**SPLIT ZBOT BETWEEN TESTING / TRAINING , EXTRACT WINWEB TESTING**"
      ]
    },
    {
      "cell_type": "code",
      "execution_count": null,
      "metadata": {
        "id": "jW3jC7LfCzuB"
      },
      "outputs": [],
      "source": [
        "# Stores files with greater than or equal to 500 opcodes into training and testing files. \n",
        "# Max of 200 test text files.\n",
        "def data_split(encoded_zbot_opcodes, encoded_win_opcodes):\n",
        "  num_training_files = int(len(encoded_zbot_opcodes)*.8)\n",
        "  num_testing_files = 200\n",
        "  zbot_test_files = []\n",
        "  zbot_train_files = []\n",
        "\n",
        "  for file in encoded_zbot_opcodes:\n",
        "    if len(file) >= 500: \n",
        "      if len(zbot_test_files) < num_testing_files:\n",
        "          zbot_test_files.append(file)\n",
        "\n",
        "      elif len(zbot_train_files) < num_training_files:\n",
        "          zbot_train_files.append(file)\n",
        "\n",
        "  win_test_files = []\n",
        "\n",
        "  for file in encoded_win_opcodes:\n",
        "    if len(file) >= 500:\n",
        "      if len(win_test_files) < num_testing_files: \n",
        "          win_test_files.append(file) \n",
        "\n",
        "          \n",
        "\n",
        "  return zbot_train_files, zbot_test_files, win_test_files\n"
      ]
    },
    {
      "cell_type": "markdown",
      "metadata": {
        "id": "3q8vQzxmVMBh"
      },
      "source": [
        "**EXTRACT 500 FROM EACH TEST FILES**"
      ]
    },
    {
      "cell_type": "code",
      "execution_count": null,
      "metadata": {
        "id": "JOG-bFxYVLNM"
      },
      "outputs": [],
      "source": [
        "\n",
        "def extract_opcodes(test_files):\n",
        "  num_opcodes = 500\n",
        "  opcodes = []\n",
        "  for file in test_files:\n",
        "      opcode_list = file[:num_opcodes] \n",
        "      opcodes.append(opcode_list)\n",
        "  return opcodes"
      ]
    },
    {
      "cell_type": "markdown",
      "metadata": {
        "id": "dhJWfL5kFApX"
      },
      "source": [
        "**STORING INDIVIDUAL OPCODES AS ELEMENT: TRAINING DATA(ZBOT, 30,000 OPCODES)**"
      ]
    },
    {
      "cell_type": "code",
      "execution_count": null,
      "metadata": {
        "id": "Lbz_jOFj1xqg"
      },
      "outputs": [],
      "source": [
        "#Store 30,000 opcodes from zbot_train_files as individual element in array\n",
        "def zbot_opcodes_list(zbot_train_files):\n",
        "    MAX_OPCODES = 30000 \n",
        "    opcodes_count = 0\n",
        "\n",
        "    zbot_opcodes_list = []\n",
        "    for i in range(len(zbot_train_files)): \n",
        "        for opcode in zbot_train_files[i]:\n",
        "            if(opcodes_count>= MAX_OPCODES):\n",
        "              break\n",
        "            zbot_opcodes_list.append([opcode])\n",
        "            opcodes_count +=1\n",
        "\n",
        "    opcodes_array = np.array(zbot_opcodes_list).reshape(-1, 1)\n",
        "\n",
        "    return opcodes_array"
      ]
    },
    {
      "cell_type": "markdown",
      "metadata": {
        "id": "ClsBC8jcwCak"
      },
      "source": [
        "##NOISE REDUCTION (can skip if not applying)"
      ]
    },
    {
      "cell_type": "code",
      "execution_count": null,
      "metadata": {
        "id": "F6qd3VWmchbS"
      },
      "outputs": [],
      "source": [
        "def reduce_opcode_count(encoded_zbot_opcodes, encoded_win_opcodes, num_opcodes):\n",
        "  \n",
        "    combined_encoded_opcodes = np.concatenate((encoded_zbot_opcodes, encoded_win_opcodes))\n",
        "    flat_opcodes = np.concatenate(combined_encoded_opcodes)\n",
        "  \n",
        "    # Count frequency of each unique integer (opcode)\n",
        "    opcode_counts = np.bincount(flat_opcodes)\n",
        "\n",
        "    opcode_freqs = {}\n",
        "    for opcode, count in enumerate(opcode_counts):\n",
        "        opcode_freqs[opcode] = count\n",
        "\n",
        "    # Sort by frequency opcodes in descending order\n",
        "    sorted_opcode_freqs = dict(sorted(opcode_freqs.items(), key=lambda item: item[1], reverse=True))\n",
        "\n",
        "    # Get most freq opcodes in range of max unique opcodes\n",
        "    most_frequent_opcodes = list(sorted_opcode_freqs.keys())[:num_opcodes]\n",
        "    unique_opcodes = set(most_frequent_opcodes)\n",
        "\n",
        "    updated_zbot_opcodes = []\n",
        "    for opcode_list in encoded_zbot_opcodes:\n",
        "        updated_zbot_opcodes.append([opcode for opcode in opcode_list if opcode in unique_opcodes])\n",
        "        \n",
        "    updated_win_opcodes = []\n",
        "    for opcode_list in encoded_win_opcodes:\n",
        "        updated_win_opcodes.append([opcode for opcode in opcode_list if opcode in unique_opcodes])\n",
        "\n",
        "    return updated_zbot_opcodes, updated_win_opcodes\n"
      ]
    },
    {
      "cell_type": "markdown",
      "metadata": {
        "id": "EKcZ5YbE--oD"
      },
      "source": [
        "##METHOD CALL (no noise reduction) *run only one*"
      ]
    },
    {
      "cell_type": "code",
      "execution_count": null,
      "metadata": {
        "id": "T-J0Ep3ChFee"
      },
      "outputs": [],
      "source": [
        "#SPLIT DATA \n",
        "zbot_train_files, zbot_test_files, win_test_files = data_split(encoded_zbot_opcodes,encoded_win_opcodes)"
      ]
    },
    {
      "cell_type": "code",
      "execution_count": null,
      "metadata": {
        "id": "RXL8D_Qu8oQf"
      },
      "outputs": [],
      "source": [
        "#STORING INDIVIDUAL OPCODES AS ELEMENT: TESTING DATA(ZBOT, 30,000 OPCODES)\n",
        "zbot_opcodes_list = zbot_opcodes_list(zbot_train_files)"
      ]
    },
    {
      "cell_type": "markdown",
      "metadata": {
        "id": "AdI3drRNAJJQ"
      },
      "source": [
        "##METHOD CALL (with noise reduction) *run only one*"
      ]
    },
    {
      "cell_type": "code",
      "execution_count": null,
      "metadata": {
        "id": "Ex-AhDA1O1-V"
      },
      "outputs": [],
      "source": [
        "#noise reduction, changes the total amount of unique opcodes based on frequency\n",
        "M = 30\n",
        "encoded_zbot_opcodes_reduced, encoded_win_opcodes_reduced = reduce_opcode_count(encoded_zbot_opcodes, encoded_win_opcodes, M)\n"
      ]
    },
    {
      "cell_type": "code",
      "execution_count": null,
      "metadata": {
        "id": "iVSFkx_himt5"
      },
      "outputs": [],
      "source": [
        "# SPLIT ENCODED_ZBOT_OPCODES FOR TRAINING / TESTING\n",
        "zbot_train_files, zbot_test_files, win_test_files= data_split(encoded_zbot_opcodes_reduced,encoded_win_opcodes_reduced)"
      ]
    },
    {
      "cell_type": "code",
      "execution_count": null,
      "metadata": {
        "id": "1ki3yffF8uI8"
      },
      "outputs": [],
      "source": [
        "# storing each opcode as a list for training\n",
        "zbot_opcodes_list = zbot_opcodes_list(zbot_train_files)"
      ]
    },
    {
      "cell_type": "markdown",
      "metadata": {
        "id": "tH1UktMJVfTD"
      },
      "source": [
        "## HMM MODEL TRAINING/TESTING/SCORING"
      ]
    },
    {
      "cell_type": "code",
      "execution_count": null,
      "metadata": {
        "id": "tgbSTjY-WyZK"
      },
      "outputs": [],
      "source": [
        "# EXTRACT 500 OPCODES FROM EACH TEST FILES\n",
        "zbot_test = extract_opcodes(zbot_test_files)"
      ]
    },
    {
      "cell_type": "code",
      "execution_count": null,
      "metadata": {
        "id": "Kx8J9M--aIsw"
      },
      "outputs": [],
      "source": [
        "#EXTRACT 500 OPCODES FROM EACH TEST FILES\n",
        "win_test = extract_opcodes(win_test_files)"
      ]
    },
    {
      "cell_type": "code",
      "execution_count": null,
      "metadata": {
        "id": "F0C_cUQsmdBl"
      },
      "outputs": [],
      "source": [
        "model = hmm.CategoricalHMM(n_components=2, n_iter=100)\n"
      ]
    },
    {
      "cell_type": "code",
      "execution_count": null,
      "metadata": {
        "id": "wgvnbo36Ej7P",
        "colab": {
          "base_uri": "https://localhost:8080/",
          "height": 92
        },
        "outputId": "238a29f1-420d-47b3-814f-d34e9024e5b7"
      },
      "outputs": [
        {
          "output_type": "execute_result",
          "data": {
            "text/plain": [
              "CategoricalHMM(n_components=2, n_iter=100,\n",
              "               random_state=RandomState(MT19937) at 0x7FFA5D4DAD40)"
            ],
            "text/html": [
              "<style>#sk-container-id-2 {color: black;background-color: white;}#sk-container-id-2 pre{padding: 0;}#sk-container-id-2 div.sk-toggleable {background-color: white;}#sk-container-id-2 label.sk-toggleable__label {cursor: pointer;display: block;width: 100%;margin-bottom: 0;padding: 0.3em;box-sizing: border-box;text-align: center;}#sk-container-id-2 label.sk-toggleable__label-arrow:before {content: \"▸\";float: left;margin-right: 0.25em;color: #696969;}#sk-container-id-2 label.sk-toggleable__label-arrow:hover:before {color: black;}#sk-container-id-2 div.sk-estimator:hover label.sk-toggleable__label-arrow:before {color: black;}#sk-container-id-2 div.sk-toggleable__content {max-height: 0;max-width: 0;overflow: hidden;text-align: left;background-color: #f0f8ff;}#sk-container-id-2 div.sk-toggleable__content pre {margin: 0.2em;color: black;border-radius: 0.25em;background-color: #f0f8ff;}#sk-container-id-2 input.sk-toggleable__control:checked~div.sk-toggleable__content {max-height: 200px;max-width: 100%;overflow: auto;}#sk-container-id-2 input.sk-toggleable__control:checked~label.sk-toggleable__label-arrow:before {content: \"▾\";}#sk-container-id-2 div.sk-estimator input.sk-toggleable__control:checked~label.sk-toggleable__label {background-color: #d4ebff;}#sk-container-id-2 div.sk-label input.sk-toggleable__control:checked~label.sk-toggleable__label {background-color: #d4ebff;}#sk-container-id-2 input.sk-hidden--visually {border: 0;clip: rect(1px 1px 1px 1px);clip: rect(1px, 1px, 1px, 1px);height: 1px;margin: -1px;overflow: hidden;padding: 0;position: absolute;width: 1px;}#sk-container-id-2 div.sk-estimator {font-family: monospace;background-color: #f0f8ff;border: 1px dotted black;border-radius: 0.25em;box-sizing: border-box;margin-bottom: 0.5em;}#sk-container-id-2 div.sk-estimator:hover {background-color: #d4ebff;}#sk-container-id-2 div.sk-parallel-item::after {content: \"\";width: 100%;border-bottom: 1px solid gray;flex-grow: 1;}#sk-container-id-2 div.sk-label:hover label.sk-toggleable__label {background-color: #d4ebff;}#sk-container-id-2 div.sk-serial::before {content: \"\";position: absolute;border-left: 1px solid gray;box-sizing: border-box;top: 0;bottom: 0;left: 50%;z-index: 0;}#sk-container-id-2 div.sk-serial {display: flex;flex-direction: column;align-items: center;background-color: white;padding-right: 0.2em;padding-left: 0.2em;position: relative;}#sk-container-id-2 div.sk-item {position: relative;z-index: 1;}#sk-container-id-2 div.sk-parallel {display: flex;align-items: stretch;justify-content: center;background-color: white;position: relative;}#sk-container-id-2 div.sk-item::before, #sk-container-id-2 div.sk-parallel-item::before {content: \"\";position: absolute;border-left: 1px solid gray;box-sizing: border-box;top: 0;bottom: 0;left: 50%;z-index: -1;}#sk-container-id-2 div.sk-parallel-item {display: flex;flex-direction: column;z-index: 1;position: relative;background-color: white;}#sk-container-id-2 div.sk-parallel-item:first-child::after {align-self: flex-end;width: 50%;}#sk-container-id-2 div.sk-parallel-item:last-child::after {align-self: flex-start;width: 50%;}#sk-container-id-2 div.sk-parallel-item:only-child::after {width: 0;}#sk-container-id-2 div.sk-dashed-wrapped {border: 1px dashed gray;margin: 0 0.4em 0.5em 0.4em;box-sizing: border-box;padding-bottom: 0.4em;background-color: white;}#sk-container-id-2 div.sk-label label {font-family: monospace;font-weight: bold;display: inline-block;line-height: 1.2em;}#sk-container-id-2 div.sk-label-container {text-align: center;}#sk-container-id-2 div.sk-container {/* jupyter's `normalize.less` sets `[hidden] { display: none; }` but bootstrap.min.css set `[hidden] { display: none !important; }` so we also need the `!important` here to be able to override the default hidden behavior on the sphinx rendered scikit-learn.org. See: https://github.com/scikit-learn/scikit-learn/issues/21755 */display: inline-block !important;position: relative;}#sk-container-id-2 div.sk-text-repr-fallback {display: none;}</style><div id=\"sk-container-id-2\" class=\"sk-top-container\"><div class=\"sk-text-repr-fallback\"><pre>CategoricalHMM(n_components=2, n_iter=100,\n",
              "               random_state=RandomState(MT19937) at 0x7FFA5D4DAD40)</pre><b>In a Jupyter environment, please rerun this cell to show the HTML representation or trust the notebook. <br />On GitHub, the HTML representation is unable to render, please try loading this page with nbviewer.org.</b></div><div class=\"sk-container\" hidden><div class=\"sk-item\"><div class=\"sk-estimator sk-toggleable\"><input class=\"sk-toggleable__control sk-hidden--visually\" id=\"sk-estimator-id-2\" type=\"checkbox\" checked><label for=\"sk-estimator-id-2\" class=\"sk-toggleable__label sk-toggleable__label-arrow\">CategoricalHMM</label><div class=\"sk-toggleable__content\"><pre>CategoricalHMM(n_components=2, n_iter=100,\n",
              "               random_state=RandomState(MT19937) at 0x7FFA5D4DAD40)</pre></div></div></div></div></div>"
            ]
          },
          "metadata": {},
          "execution_count": 17
        }
      ],
      "source": [
        "model.fit(zbot_opcodes_list)"
      ]
    },
    {
      "cell_type": "code",
      "execution_count": null,
      "metadata": {
        "id": "r7FJJLOhWaWo"
      },
      "outputs": [],
      "source": [
        "# Iterate over each file in the test set and score it using the trained HMM model\n",
        "def calculate_scores(test_data, model):\n",
        "    scores = []\n",
        "    for sequence in test_data:\n",
        "        sequence = np.array(sequence).reshape(-1, 1)\n",
        "        score = model.score(sequence)\n",
        "        scores.append(score)\n",
        "    return scores"
      ]
    },
    {
      "cell_type": "code",
      "execution_count": null,
      "metadata": {
        "id": "E4snDS6HWbwP"
      },
      "outputs": [],
      "source": [
        "zbot_scores = calculate_scores(zbot_test, model)"
      ]
    },
    {
      "cell_type": "code",
      "execution_count": null,
      "metadata": {
        "id": "JHB4BVXOZifu"
      },
      "outputs": [],
      "source": [
        "win_scores = calculate_scores(win_test, model)"
      ]
    },
    {
      "cell_type": "markdown",
      "metadata": {
        "id": "oUw56qruSXvt"
      },
      "source": [
        "**CONVERTING TO CVS FILE**"
      ]
    },
    {
      "cell_type": "code",
      "execution_count": null,
      "metadata": {
        "id": "IURtdimVSagq"
      },
      "outputs": [],
      "source": [
        "zbot_cvs = {'zbot_score_results' : zbot_scores}\n",
        "win_cvs = {'win_score_results' : win_scores}\n",
        "\n",
        "zbotDF = pd.DataFrame(zbot_cvs)\n",
        "winDF = pd.DataFrame(win_cvs)\n",
        "\n",
        "result = pd.concat([zbotDF, winDF], axis=1)\n"
      ]
    }
  ],
  "metadata": {
    "colab": {
      "toc_visible": true,
      "provenance": [],
      "mount_file_id": "1ch5UjQu3duWFhvVSAwT3QvJk1NIMT_Ko",
      "authorship_tag": "ABX9TyMmlna57uuBaloqlKkpGcv+",
      "include_colab_link": true
    },
    "kernelspec": {
      "display_name": "Python 3",
      "name": "python3"
    },
    "language_info": {
      "name": "python"
    }
  },
  "nbformat": 4,
  "nbformat_minor": 0
}